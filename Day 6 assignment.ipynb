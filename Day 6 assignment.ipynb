{
 "cells": [
  {
   "cell_type": "code",
   "execution_count": 1,
   "metadata": {},
   "outputs": [
    {
     "name": "stdout",
     "output_type": "stream",
     "text": [
      "am@google.com\n",
      "google\n"
     ]
    }
   ],
   "source": [
    "a=input()\n",
    "print(a[a.find('@')+1:a.find('.')])"
   ]
  },
  {
   "cell_type": "code",
   "execution_count": 3,
   "metadata": {},
   "outputs": [
    {
     "name": "stdout",
     "output_type": "stream",
     "text": [
      "am,vk,baby,doll\n",
      "am,baby,doll,vk\n"
     ]
    }
   ],
   "source": [
    "a=input()\n",
    "l=a.split(\",\")\n",
    "l.sort()\n",
    "b=','.join(l)\n",
    "print(b)"
   ]
  },
  {
   "cell_type": "code",
   "execution_count": 15,
   "metadata": {},
   "outputs": [
    {
     "name": "stdout",
     "output_type": "stream",
     "text": [
      "1 5 2 7 9 \n",
      "3\n"
     ]
    }
   ],
   "source": [
    "a=input()\n",
    "i='1'\n",
    "while i in a:\n",
    "    i=str(int(i)+1)\n",
    "print(i)\n"
   ]
  },
  {
   "cell_type": "code",
   "execution_count": 31,
   "metadata": {},
   "outputs": [
    {
     "name": "stdout",
     "output_type": "stream",
     "text": [
      "1 3 3 4 4 5\n",
      "The original list is : ['1', '3', '3', '4', '4', '5']\n",
      "1 3 4 5\n"
     ]
    }
   ],
   "source": [
    "a=input()\n",
    "l=a.split(\" \")\n",
    "print (\"The original list is : \" +  str(l)) \n",
    "res = list(OrderedDict.fromkeys(l)) \n",
    "b=' '.join(res)\n",
    "print(b)"
   ]
  },
  {
   "cell_type": "code",
   "execution_count": null,
   "metadata": {},
   "outputs": [],
   "source": []
  }
 ],
 "metadata": {
  "kernelspec": {
   "display_name": "Python 3",
   "language": "python",
   "name": "python3"
  },
  "language_info": {
   "codemirror_mode": {
    "name": "ipython",
    "version": 3
   },
   "file_extension": ".py",
   "mimetype": "text/x-python",
   "name": "python",
   "nbconvert_exporter": "python",
   "pygments_lexer": "ipython3",
   "version": "3.7.6"
  }
 },
 "nbformat": 4,
 "nbformat_minor": 4
}
